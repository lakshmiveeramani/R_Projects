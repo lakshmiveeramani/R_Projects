{
 "cells": [
  {
   "cell_type": "code",
   "execution_count": 22,
   "id": "58de473e",
   "metadata": {},
   "outputs": [],
   "source": [
    "library(h2o)"
   ]
  },
  {
   "cell_type": "code",
   "execution_count": 23,
   "id": "894caa53",
   "metadata": {},
   "outputs": [
    {
     "name": "stdout",
     "output_type": "stream",
     "text": [
      " Connection successful!\n",
      "\n",
      "R is connected to the H2O cluster: \n",
      "    H2O cluster uptime:         39 minutes 19 seconds \n",
      "    H2O cluster timezone:       America/New_York \n",
      "    H2O data parsing timezone:  UTC \n",
      "    H2O cluster version:        3.36.0.3 \n",
      "    H2O cluster version age:    8 days  \n",
      "    H2O cluster name:           H2O_started_from_R_laksh_rlm019 \n",
      "    H2O cluster total nodes:    1 \n",
      "    H2O cluster total memory:   0.91 GB \n",
      "    H2O cluster total cores:    4 \n",
      "    H2O cluster allowed cores:  4 \n",
      "    H2O cluster healthy:        TRUE \n",
      "    H2O Connection ip:          localhost \n",
      "    H2O Connection port:        54321 \n",
      "    H2O Connection proxy:       NA \n",
      "    H2O Internal Security:      FALSE \n",
      "    R Version:                  R version 3.6.1 (2019-07-05) \n",
      "\n"
     ]
    }
   ],
   "source": [
    "h2o.init()"
   ]
  },
  {
   "cell_type": "code",
   "execution_count": 24,
   "id": "8cb9aa97",
   "metadata": {},
   "outputs": [],
   "source": [
    "library(h2o)"
   ]
  },
  {
   "cell_type": "code",
   "execution_count": 25,
   "id": "6a71db3b",
   "metadata": {},
   "outputs": [
    {
     "name": "stdout",
     "output_type": "stream",
     "text": [
      " Connection successful!\n",
      "\n",
      "R is connected to the H2O cluster: \n",
      "    H2O cluster uptime:         39 minutes 22 seconds \n",
      "    H2O cluster timezone:       America/New_York \n",
      "    H2O data parsing timezone:  UTC \n",
      "    H2O cluster version:        3.36.0.3 \n",
      "    H2O cluster version age:    8 days  \n",
      "    H2O cluster name:           H2O_started_from_R_laksh_rlm019 \n",
      "    H2O cluster total nodes:    1 \n",
      "    H2O cluster total memory:   0.91 GB \n",
      "    H2O cluster total cores:    4 \n",
      "    H2O cluster allowed cores:  4 \n",
      "    H2O cluster healthy:        TRUE \n",
      "    H2O Connection ip:          localhost \n",
      "    H2O Connection port:        54321 \n",
      "    H2O Connection proxy:       NA \n",
      "    H2O Internal Security:      FALSE \n",
      "    R Version:                  R version 3.6.1 (2019-07-05) \n",
      "\n"
     ]
    }
   ],
   "source": [
    "h2o.init()"
   ]
  },
  {
   "cell_type": "code",
   "execution_count": 26,
   "id": "9bd0c248",
   "metadata": {},
   "outputs": [],
   "source": [
    "url <- \"http://h2o-public-test-data.s3.amazonaws.com/smalldata/iris/iris_wheader.csv\""
   ]
  },
  {
   "cell_type": "code",
   "execution_count": 27,
   "id": "23914646",
   "metadata": {},
   "outputs": [
    {
     "data": {
      "text/html": [
       "'http://h2o-public-test-data.s3.amazonaws.com/smalldata/iris/iris_wheader.csv'"
      ],
      "text/latex": [
       "'http://h2o-public-test-data.s3.amazonaws.com/smalldata/iris/iris\\_wheader.csv'"
      ],
      "text/markdown": [
       "'http://h2o-public-test-data.s3.amazonaws.com/smalldata/iris/iris_wheader.csv'"
      ],
      "text/plain": [
       "[1] \"http://h2o-public-test-data.s3.amazonaws.com/smalldata/iris/iris_wheader.csv\""
      ]
     },
     "metadata": {},
     "output_type": "display_data"
    }
   ],
   "source": [
    "url"
   ]
  },
  {
   "cell_type": "code",
   "execution_count": 28,
   "id": "6dd7a634",
   "metadata": {},
   "outputs": [
    {
     "name": "stdout",
     "output_type": "stream",
     "text": [
      "  |======================================================================| 100%\n"
     ]
    }
   ],
   "source": [
    "iris <- h2o.importFile(url)"
   ]
  },
  {
   "cell_type": "code",
   "execution_count": 29,
   "id": "6243d447",
   "metadata": {},
   "outputs": [],
   "source": [
    "parts <- h2o.splitFrame(iris, 0.8)"
   ]
  },
  {
   "cell_type": "code",
   "execution_count": 30,
   "id": "e5937427",
   "metadata": {},
   "outputs": [],
   "source": [
    "train <- parts[[1]]"
   ]
  },
  {
   "cell_type": "code",
   "execution_count": 31,
   "id": "12f4f44e",
   "metadata": {},
   "outputs": [],
   "source": [
    "test <- parts[[2]]"
   ]
  },
  {
   "cell_type": "code",
   "execution_count": 32,
   "id": "51f9672d",
   "metadata": {},
   "outputs": [
    {
     "name": "stderr",
     "output_type": "stream",
     "text": [
      "Warning message in summary.H2OFrame(train):\n",
      "\"Approximated quantiles computed! If you are interested in exact quantiles, please pass the `exact_quantiles=TRUE` parameter.\""
     ]
    },
    {
     "data": {
      "text/plain": [
       " sepal_len       sepal_wid       petal_len       petal_wid       \n",
       " Min.   :4.300   Min.   :2.000   Min.   :1.000   Min.   :0.1000  \n",
       " 1st Qu.:5.198   1st Qu.:2.799   1st Qu.:1.596   1st Qu.:0.2992  \n",
       " Median :5.799   Median :2.998   Median :4.298   Median :1.3000  \n",
       " Mean   :5.887   Mean   :3.064   Mean   :3.782   Mean   :1.1966  \n",
       " 3rd Qu.:6.398   3rd Qu.:3.298   3rd Qu.:5.095   3rd Qu.:1.7992  \n",
       " Max.   :7.700   Max.   :4.400   Max.   :6.900   Max.   :2.5000  \n",
       " class              \n",
       " Iris-versicolor:41 \n",
       " Iris-setosa    :39 \n",
       " Iris-virginica :39 \n",
       "                    \n",
       "                    \n",
       "                    "
      ]
     },
     "metadata": {},
     "output_type": "display_data"
    }
   ],
   "source": [
    "summary(train)"
   ]
  },
  {
   "cell_type": "code",
   "execution_count": 33,
   "id": "083400ba",
   "metadata": {},
   "outputs": [
    {
     "data": {
      "text/html": [
       "119"
      ],
      "text/latex": [
       "119"
      ],
      "text/markdown": [
       "119"
      ],
      "text/plain": [
       "[1] 119"
      ]
     },
     "metadata": {},
     "output_type": "display_data"
    }
   ],
   "source": [
    "nrow(train)"
   ]
  },
  {
   "cell_type": "code",
   "execution_count": 34,
   "id": "7febf7a1",
   "metadata": {},
   "outputs": [
    {
     "data": {
      "text/html": [
       "31"
      ],
      "text/latex": [
       "31"
      ],
      "text/markdown": [
       "31"
      ],
      "text/plain": [
       "[1] 31"
      ]
     },
     "metadata": {},
     "output_type": "display_data"
    }
   ],
   "source": [
    "nrow(test)"
   ]
  },
  {
   "cell_type": "code",
   "execution_count": 36,
   "id": "b3d77773",
   "metadata": {},
   "outputs": [
    {
     "name": "stdout",
     "output_type": "stream",
     "text": [
      "  |=                                                                     |   1%\n",
      "05:32:15.359: AutoML: XGBoost is not available; skipping it.\n",
      "05:32:15.359: Step 'best_of_family_xgboost' not defined in provider 'StackedEnsemble': skipping it.\n",
      "  |========                                                              |  12%pping it.\n",
      "  |======================================================================| 100%ows=100.0: must have at least 200.0 (weighted) rows, but have only 119.0.\n"
     ]
    }
   ],
   "source": [
    "mA = h2o.automl(1:4, 5, train, max_runtime_secs = 30)"
   ]
  },
  {
   "cell_type": "code",
   "execution_count": 37,
   "id": "92fc4964",
   "metadata": {},
   "outputs": [
    {
     "data": {
      "text/plain": [
       "                                                model_id mean_per_class_error\n",
       "1                          GLM_1_AutoML_2_20220225_53215           0.04148426\n",
       "2            GBM_grid_1_AutoML_2_20220225_53215_model_10           0.05003127\n",
       "3            GBM_grid_1_AutoML_2_20220225_53215_model_14           0.05003127\n",
       "4    StackedEnsemble_AllModels_3_AutoML_2_20220225_53215           0.05044820\n",
       "5                          XRT_1_AutoML_2_20220225_53215           0.05816135\n",
       "6 StackedEnsemble_BestOfFamily_1_AutoML_2_20220225_53215           0.05816135\n",
       "     logloss      rmse        mse\n",
       "1 0.08339169 0.1649371 0.02720424\n",
       "2 0.13507819 0.2040226 0.04162523\n",
       "3 0.15712702 0.2063103 0.04256392\n",
       "4 0.26011246 0.2611678 0.06820863\n",
       "5 0.13947804 0.2121060 0.04498894\n",
       "6 0.28493806 0.2807083 0.07879713\n",
       "\n",
       "[32 rows x 5 columns] "
      ]
     },
     "metadata": {},
     "output_type": "display_data"
    }
   ],
   "source": [
    "mA@leaderboard"
   ]
  },
  {
   "cell_type": "code",
   "execution_count": 38,
   "id": "909f839c",
   "metadata": {},
   "outputs": [
    {
     "name": "stdout",
     "output_type": "stream",
     "text": [
      "  |======================================================================| 100%\n"
     ]
    }
   ],
   "source": [
    "p <- h2o.predict(mA@leader, test)"
   ]
  },
  {
   "cell_type": "code",
   "execution_count": 39,
   "id": "6e9481c4",
   "metadata": {},
   "outputs": [
    {
     "data": {
      "text/plain": [
       "      predict Iris-setosa Iris-versicolor Iris-virginica\n",
       "1 Iris-setosa   0.9997666    0.0002333856   2.214076e-18\n",
       "2 Iris-setosa   0.9997270    0.0002729895   1.802135e-17\n",
       "3 Iris-setosa   0.9969023    0.0030976919   4.470503e-16\n",
       "4 Iris-setosa   0.9957058    0.0042942096   1.333692e-16\n",
       "5 Iris-setosa   0.9978212    0.0021787739   6.374021e-16\n",
       "6 Iris-setosa   0.9985501    0.0014498628   1.743231e-16\n",
       "\n",
       "[31 rows x 4 columns] "
      ]
     },
     "metadata": {},
     "output_type": "display_data"
    }
   ],
   "source": [
    "p"
   ]
  },
  {
   "cell_type": "code",
   "execution_count": 40,
   "id": "24bfe55c",
   "metadata": {},
   "outputs": [
    {
     "data": {
      "text/plain": [
       "H2OMultinomialMetrics: glm\n",
       "\n",
       "Test Set Metrics: \n",
       "=====================\n",
       "\n",
       "MSE: (Extract with `h2o.mse`) 0.01011713\n",
       "RMSE: (Extract with `h2o.rmse`) 0.100584\n",
       "Logloss: (Extract with `h2o.logloss`) 0.04320466\n",
       "Mean Per-Class Error: 0\n",
       "AUC: (Extract with `h2o.auc`) NaN\n",
       "AUCPR: (Extract with `h2o.aucpr`) NaN\n",
       "Null Deviance: (Extract with `h2o.nulldeviance`) 68.26465\n",
       "Residual Deviance: (Extract with `h2o.residual_deviance`) 2.678689\n",
       "R^2: (Extract with `h2o.r2`) 0.985744\n",
       "AIC: (Extract with `h2o.aic`) NaN\n",
       "Confusion Matrix: Extract with `h2o.confusionMatrix(<model>, <data>)`)\n",
       "=========================================================================\n",
       "Confusion Matrix: Row labels: Actual class; Column labels: Predicted class\n",
       "                Iris-setosa Iris-versicolor Iris-virginica  Error     Rate\n",
       "Iris-setosa              11               0              0 0.0000 = 0 / 11\n",
       "Iris-versicolor           0               9              0 0.0000 =  0 / 9\n",
       "Iris-virginica            0               0             11 0.0000 = 0 / 11\n",
       "Totals                   11               9             11 0.0000 = 0 / 31\n",
       "\n",
       "Hit Ratio Table: Extract with `h2o.hit_ratio_table(<model>, <data>)`\n",
       "=======================================================================\n",
       "Top-3 Hit Ratios: \n",
       "  k hit_ratio\n",
       "1 1  1.000000\n",
       "2 2  1.000000\n",
       "3 3  1.000000\n",
       "\n",
       "\n"
      ]
     },
     "metadata": {},
     "output_type": "display_data"
    }
   ],
   "source": [
    "h2o.performance(mA@leader, test)"
   ]
  },
  {
   "cell_type": "code",
   "execution_count": null,
   "id": "74da4ad0",
   "metadata": {},
   "outputs": [],
   "source": []
  },
  {
   "cell_type": "code",
   "execution_count": null,
   "id": "1349799e",
   "metadata": {},
   "outputs": [],
   "source": []
  }
 ],
 "metadata": {
  "kernelspec": {
   "display_name": "R",
   "language": "R",
   "name": "ir"
  },
  "language_info": {
   "codemirror_mode": "r",
   "file_extension": ".r",
   "mimetype": "text/x-r-source",
   "name": "R",
   "pygments_lexer": "r",
   "version": "3.6.1"
  }
 },
 "nbformat": 4,
 "nbformat_minor": 5
}
