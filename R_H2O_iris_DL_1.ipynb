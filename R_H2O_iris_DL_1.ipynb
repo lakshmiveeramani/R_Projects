{
 "cells": [
  {
   "cell_type": "code",
   "execution_count": 6,
   "id": "58de473e",
   "metadata": {},
   "outputs": [
    {
     "name": "stderr",
     "output_type": "stream",
     "text": [
      "\n",
      "----------------------------------------------------------------------\n",
      "\n",
      "Your next step is to start H2O:\n",
      "    > h2o.init()\n",
      "\n",
      "For H2O package documentation, ask for help:\n",
      "    > ??h2o\n",
      "\n",
      "After starting H2O, you can use the Web UI at http://localhost:54321\n",
      "For more information visit https://docs.h2o.ai\n",
      "\n",
      "----------------------------------------------------------------------\n",
      "\n",
      "\n",
      "Attaching package: 'h2o'\n",
      "\n",
      "The following objects are masked from 'package:stats':\n",
      "\n",
      "    cor, sd, var\n",
      "\n",
      "The following objects are masked from 'package:base':\n",
      "\n",
      "    %*%, %in%, &&, ||, apply, as.factor, as.numeric, colnames,\n",
      "    colnames<-, ifelse, is.character, is.factor, is.numeric, log,\n",
      "    log10, log1p, log2, round, signif, trunc\n",
      "\n"
     ]
    }
   ],
   "source": [
    "library(h2o)"
   ]
  },
  {
   "cell_type": "code",
   "execution_count": 7,
   "id": "894caa53",
   "metadata": {},
   "outputs": [
    {
     "name": "stdout",
     "output_type": "stream",
     "text": [
      "\n",
      "H2O is not running yet, starting it now...\n"
     ]
    },
    {
     "name": "stderr",
     "output_type": "stream",
     "text": [
      "Warning message in .h2o.startJar(ip = ip, port = port, name = name, nthreads = nthreads, :\n",
      "\"You have a 32-bit version of Java. H2O works best with 64-bit Java.\n",
      "Please download the latest Java SE JDK from the following URL:\n",
      "http://docs.h2o.ai/h2o/latest-stable/h2o-docs/welcome.html#java-requirements\""
     ]
    },
    {
     "name": "stdout",
     "output_type": "stream",
     "text": [
      "\n",
      "Note:  In case of errors look at the following log files:\n",
      "    C:\\Users\\laksh\\AppData\\Local\\Temp\\RtmpIvXz3i\\file2da479ca1b66/h2o_laksh_started_from_r.out\n",
      "    C:\\Users\\laksh\\AppData\\Local\\Temp\\RtmpIvXz3i\\file2da460b532d6/h2o_laksh_started_from_r.err\n",
      "\n",
      "\n",
      "Starting H2O JVM and connecting: . Connection successful!\n",
      "\n",
      "R is connected to the H2O cluster: \n",
      "    H2O cluster uptime:         5 seconds 22 milliseconds \n",
      "    H2O cluster timezone:       America/New_York \n",
      "    H2O data parsing timezone:  UTC \n",
      "    H2O cluster version:        3.36.0.3 \n",
      "    H2O cluster version age:    8 days  \n",
      "    H2O cluster name:           H2O_started_from_R_laksh_pkw184 \n",
      "    H2O cluster total nodes:    1 \n",
      "    H2O cluster total memory:   0.96 GB \n",
      "    H2O cluster total cores:    4 \n",
      "    H2O cluster allowed cores:  4 \n",
      "    H2O cluster healthy:        TRUE \n",
      "    H2O Connection ip:          localhost \n",
      "    H2O Connection port:        54321 \n",
      "    H2O Connection proxy:       NA \n",
      "    H2O Internal Security:      FALSE \n",
      "    R Version:                  R version 3.6.1 (2019-07-05) \n",
      "\n"
     ]
    }
   ],
   "source": [
    "h2o.init()"
   ]
  },
  {
   "cell_type": "code",
   "execution_count": 1,
   "id": "8cb9aa97",
   "metadata": {},
   "outputs": [
    {
     "name": "stderr",
     "output_type": "stream",
     "text": [
      "\n",
      "----------------------------------------------------------------------\n",
      "\n",
      "Your next step is to start H2O:\n",
      "    > h2o.init()\n",
      "\n",
      "For H2O package documentation, ask for help:\n",
      "    > ??h2o\n",
      "\n",
      "After starting H2O, you can use the Web UI at http://localhost:54321\n",
      "For more information visit https://docs.h2o.ai\n",
      "\n",
      "----------------------------------------------------------------------\n",
      "\n",
      "\n",
      "Attaching package: 'h2o'\n",
      "\n",
      "The following objects are masked from 'package:stats':\n",
      "\n",
      "    cor, sd, var\n",
      "\n",
      "The following objects are masked from 'package:base':\n",
      "\n",
      "    %*%, %in%, &&, ||, apply, as.factor, as.numeric, colnames,\n",
      "    colnames<-, ifelse, is.character, is.factor, is.numeric, log,\n",
      "    log10, log1p, log2, round, signif, trunc\n",
      "\n"
     ]
    }
   ],
   "source": [
    "library(h2o)"
   ]
  },
  {
   "cell_type": "code",
   "execution_count": 2,
   "id": "6a71db3b",
   "metadata": {},
   "outputs": [
    {
     "name": "stdout",
     "output_type": "stream",
     "text": [
      "\n",
      "H2O is not running yet, starting it now...\n"
     ]
    },
    {
     "name": "stderr",
     "output_type": "stream",
     "text": [
      "Warning message in .h2o.startJar(ip = ip, port = port, name = name, nthreads = nthreads, :\n",
      "\"You have a 32-bit version of Java. H2O works best with 64-bit Java.\n",
      "Please download the latest Java SE JDK from the following URL:\n",
      "http://docs.h2o.ai/h2o/latest-stable/h2o-docs/welcome.html#java-requirements\""
     ]
    },
    {
     "name": "stdout",
     "output_type": "stream",
     "text": [
      "\n",
      "Note:  In case of errors look at the following log files:\n",
      "    C:\\Users\\laksh\\AppData\\Local\\Temp\\RtmpeIepDl\\file1d48615323d3/h2o_laksh_started_from_r.out\n",
      "    C:\\Users\\laksh\\AppData\\Local\\Temp\\RtmpeIepDl\\file1d4810bd849/h2o_laksh_started_from_r.err\n",
      "\n",
      "\n",
      "Starting H2O JVM and connecting: . Connection successful!\n",
      "\n",
      "R is connected to the H2O cluster: \n",
      "    H2O cluster uptime:         15 seconds 47 milliseconds \n",
      "    H2O cluster timezone:       America/New_York \n",
      "    H2O data parsing timezone:  UTC \n",
      "    H2O cluster version:        3.36.0.3 \n",
      "    H2O cluster version age:    8 days  \n",
      "    H2O cluster name:           H2O_started_from_R_laksh_rlm019 \n",
      "    H2O cluster total nodes:    1 \n",
      "    H2O cluster total memory:   0.96 GB \n",
      "    H2O cluster total cores:    4 \n",
      "    H2O cluster allowed cores:  4 \n",
      "    H2O cluster healthy:        TRUE \n",
      "    H2O Connection ip:          localhost \n",
      "    H2O Connection port:        54321 \n",
      "    H2O Connection proxy:       NA \n",
      "    H2O Internal Security:      FALSE \n",
      "    R Version:                  R version 3.6.1 (2019-07-05) \n",
      "\n"
     ]
    }
   ],
   "source": [
    "h2o.init()"
   ]
  },
  {
   "cell_type": "code",
   "execution_count": 3,
   "id": "9bd0c248",
   "metadata": {},
   "outputs": [],
   "source": [
    "url <- \"http://h2o-public-test-data.s3.amazonaws.com/smalldata/iris/iris_wheader.csv\""
   ]
  },
  {
   "cell_type": "code",
   "execution_count": 4,
   "id": "23914646",
   "metadata": {},
   "outputs": [
    {
     "data": {
      "text/html": [
       "'http://h2o-public-test-data.s3.amazonaws.com/smalldata/iris/iris_wheader.csv'"
      ],
      "text/latex": [
       "'http://h2o-public-test-data.s3.amazonaws.com/smalldata/iris/iris\\_wheader.csv'"
      ],
      "text/markdown": [
       "'http://h2o-public-test-data.s3.amazonaws.com/smalldata/iris/iris_wheader.csv'"
      ],
      "text/plain": [
       "[1] \"http://h2o-public-test-data.s3.amazonaws.com/smalldata/iris/iris_wheader.csv\""
      ]
     },
     "metadata": {},
     "output_type": "display_data"
    }
   ],
   "source": [
    "url"
   ]
  },
  {
   "cell_type": "code",
   "execution_count": 5,
   "id": "6dd7a634",
   "metadata": {},
   "outputs": [
    {
     "name": "stdout",
     "output_type": "stream",
     "text": [
      "  |======================================================================| 100%\n"
     ]
    }
   ],
   "source": [
    "iris <- h2o.importFile(url)"
   ]
  },
  {
   "cell_type": "code",
   "execution_count": 6,
   "id": "6243d447",
   "metadata": {},
   "outputs": [],
   "source": [
    "parts <- h2o.splitFrame(iris, 0.8)"
   ]
  },
  {
   "cell_type": "code",
   "execution_count": 7,
   "id": "e5937427",
   "metadata": {},
   "outputs": [],
   "source": [
    "train <- parts[[1]]"
   ]
  },
  {
   "cell_type": "code",
   "execution_count": 8,
   "id": "12f4f44e",
   "metadata": {},
   "outputs": [],
   "source": [
    "test <- parts[[2]]"
   ]
  },
  {
   "cell_type": "code",
   "execution_count": 9,
   "id": "51f9672d",
   "metadata": {},
   "outputs": [
    {
     "name": "stderr",
     "output_type": "stream",
     "text": [
      "Warning message in summary.H2OFrame(train):\n",
      "\"Approximated quantiles computed! If you are interested in exact quantiles, please pass the `exact_quantiles=TRUE` parameter.\""
     ]
    },
    {
     "data": {
      "text/plain": [
       " sepal_len       sepal_wid       petal_len       petal_wid       \n",
       " Min.   :4.300   Min.   :2.200   Min.   :1.000   Min.   :0.1000  \n",
       " 1st Qu.:5.200   1st Qu.:2.798   1st Qu.:1.522   1st Qu.:0.3244  \n",
       " Median :5.798   Median :2.999   Median :4.397   Median :1.3000  \n",
       " Mean   :5.852   Mean   :3.050   Mean   :3.794   Mean   :1.2079  \n",
       " 3rd Qu.:6.399   3rd Qu.:3.298   3rd Qu.:5.098   3rd Qu.:1.7992  \n",
       " Max.   :7.900   Max.   :4.400   Max.   :6.700   Max.   :2.5000  \n",
       " class              \n",
       " Iris-versicolor:44 \n",
       " Iris-virginica :42 \n",
       " Iris-setosa    :40 \n",
       "                    \n",
       "                    \n",
       "                    "
      ]
     },
     "metadata": {},
     "output_type": "display_data"
    }
   ],
   "source": [
    "summary(train)"
   ]
  },
  {
   "cell_type": "code",
   "execution_count": 10,
   "id": "083400ba",
   "metadata": {},
   "outputs": [
    {
     "data": {
      "text/html": [
       "126"
      ],
      "text/latex": [
       "126"
      ],
      "text/markdown": [
       "126"
      ],
      "text/plain": [
       "[1] 126"
      ]
     },
     "metadata": {},
     "output_type": "display_data"
    }
   ],
   "source": [
    "nrow(train)"
   ]
  },
  {
   "cell_type": "code",
   "execution_count": 11,
   "id": "7febf7a1",
   "metadata": {},
   "outputs": [
    {
     "data": {
      "text/html": [
       "24"
      ],
      "text/latex": [
       "24"
      ],
      "text/markdown": [
       "24"
      ],
      "text/plain": [
       "[1] 24"
      ]
     },
     "metadata": {},
     "output_type": "display_data"
    }
   ],
   "source": [
    "nrow(test)"
   ]
  },
  {
   "cell_type": "code",
   "execution_count": 17,
   "id": "729831d7",
   "metadata": {},
   "outputs": [
    {
     "name": "stdout",
     "output_type": "stream",
     "text": [
      "  |======================================================================| 100%\n"
     ]
    }
   ],
   "source": [
    "mDL <- h2o.deeplearning(1:4, 5, train)"
   ]
  },
  {
   "cell_type": "code",
   "execution_count": 18,
   "id": "e301b14a",
   "metadata": {},
   "outputs": [
    {
     "data": {
      "text/plain": [
       "Model Details:\n",
       "==============\n",
       "\n",
       "H2OMultinomialModel: deeplearning\n",
       "Model ID:  DeepLearning_model_R_1645782701179_3 \n",
       "Status of Neuron Layers: predicting class, 3-class classification, multinomial distribution, CrossEntropy loss, 41,803 weights/biases, 498.2 KB, 1,260 training samples, mini-batch size 1\n",
       "  layer units      type dropout       l1       l2 mean_rate rate_rms momentum\n",
       "1     1     4     Input  0.00 %       NA       NA        NA       NA       NA\n",
       "2     2   200 Rectifier  0.00 % 0.000000 0.000000  0.003794 0.003244 0.000000\n",
       "3     3   200 Rectifier  0.00 % 0.000000 0.000000  0.013395 0.068088 0.000000\n",
       "4     4     3   Softmax      NA 0.000000 0.000000  0.010008 0.082958 0.000000\n",
       "  mean_weight weight_rms mean_bias bias_rms\n",
       "1          NA         NA        NA       NA\n",
       "2    0.000466   0.105092  0.485895 0.011458\n",
       "3   -0.001583   0.070029  0.997757 0.005596\n",
       "4   -0.008543   0.401132 -0.000605 0.000980\n",
       "\n",
       "\n",
       "H2OMultinomialMetrics: deeplearning\n",
       "** Reported on training data. **\n",
       "** Metrics reported on full training frame **\n",
       "\n",
       "Training Set Metrics: \n",
       "=====================\n",
       "\n",
       "Extract training frame with `h2o.getFrame(\"RTMP_sid_9bcb_2\")`\n",
       "MSE: (Extract with `h2o.mse`) 0.09660784\n",
       "RMSE: (Extract with `h2o.rmse`) 0.310818\n",
       "Logloss: (Extract with `h2o.logloss`) 0.3083178\n",
       "Mean Per-Class Error: 0.1190476\n",
       "AUC: (Extract with `h2o.auc`) NaN\n",
       "AUCPR: (Extract with `h2o.aucpr`) NaN\n",
       "Confusion Matrix: Extract with `h2o.confusionMatrix(<model>,train = TRUE)`)\n",
       "=========================================================================\n",
       "Confusion Matrix: Row labels: Actual class; Column labels: Predicted class\n",
       "                Iris-setosa Iris-versicolor Iris-virginica  Error       Rate\n",
       "Iris-setosa              40               0              0 0.0000 =   0 / 40\n",
       "Iris-versicolor           0              44              0 0.0000 =   0 / 44\n",
       "Iris-virginica            0              15             27 0.3571 =  15 / 42\n",
       "Totals                   40              59             27 0.1190 = 15 / 126\n",
       "\n",
       "Hit Ratio Table: Extract with `h2o.hit_ratio_table(<model>,train = TRUE)`\n",
       "=======================================================================\n",
       "Top-3 Hit Ratios: \n",
       "  k hit_ratio\n",
       "1 1  0.880952\n",
       "2 2  1.000000\n",
       "3 3  1.000000\n",
       "\n",
       "\n",
       "\n",
       "\n",
       "\n"
      ]
     },
     "metadata": {},
     "output_type": "display_data"
    }
   ],
   "source": [
    "mDL"
   ]
  },
  {
   "cell_type": "code",
   "execution_count": 19,
   "id": "090aebda",
   "metadata": {},
   "outputs": [
    {
     "name": "stdout",
     "output_type": "stream",
     "text": [
      "  |======================================================================| 100%\n"
     ]
    }
   ],
   "source": [
    "p <- h2o.predict(mDL,test)"
   ]
  },
  {
   "cell_type": "code",
   "execution_count": 20,
   "id": "69152f69",
   "metadata": {},
   "outputs": [
    {
     "data": {
      "text/plain": [
       "      predict Iris-setosa Iris-versicolor Iris-virginica\n",
       "1 Iris-setosa   0.9999979    2.112610e-06   8.726128e-22\n",
       "2 Iris-setosa   0.9999939    6.064980e-06   9.586016e-22\n",
       "3 Iris-setosa   0.9999991    8.856387e-07   8.525628e-23\n",
       "4 Iris-setosa   0.9999966    3.429283e-06   4.186547e-21\n",
       "5 Iris-setosa   0.9999947    5.316821e-06   6.412737e-21\n",
       "6 Iris-setosa   0.9999787    2.130644e-05   2.718554e-20\n",
       "\n",
       "[24 rows x 4 columns] "
      ]
     },
     "metadata": {},
     "output_type": "display_data"
    }
   ],
   "source": [
    "p"
   ]
  },
  {
   "cell_type": "code",
   "execution_count": 21,
   "id": "88cd9541",
   "metadata": {},
   "outputs": [
    {
     "data": {
      "text/plain": [
       "H2OMultinomialMetrics: deeplearning\n",
       "\n",
       "Test Set Metrics: \n",
       "=====================\n",
       "\n",
       "MSE: (Extract with `h2o.mse`) 0.04458211\n",
       "RMSE: (Extract with `h2o.rmse`) 0.2111448\n",
       "Logloss: (Extract with `h2o.logloss`) 0.2579067\n",
       "Mean Per-Class Error: 0.04166667\n",
       "AUC: (Extract with `h2o.auc`) NaN\n",
       "AUCPR: (Extract with `h2o.aucpr`) NaN\n",
       "Confusion Matrix: Extract with `h2o.confusionMatrix(<model>, <data>)`)\n",
       "=========================================================================\n",
       "Confusion Matrix: Row labels: Actual class; Column labels: Predicted class\n",
       "                Iris-setosa Iris-versicolor Iris-virginica  Error     Rate\n",
       "Iris-setosa              10               0              0 0.0000 = 0 / 10\n",
       "Iris-versicolor           0               6              0 0.0000 =  0 / 6\n",
       "Iris-virginica            0               1              7 0.1250 =  1 / 8\n",
       "Totals                   10               7              7 0.0417 = 1 / 24\n",
       "\n",
       "Hit Ratio Table: Extract with `h2o.hit_ratio_table(<model>, <data>)`\n",
       "=======================================================================\n",
       "Top-3 Hit Ratios: \n",
       "  k hit_ratio\n",
       "1 1  0.958333\n",
       "2 2  1.000000\n",
       "3 3  1.000000\n",
       "\n",
       "\n"
      ]
     },
     "metadata": {},
     "output_type": "display_data"
    }
   ],
   "source": [
    "h2o.performance(mDL, test)"
   ]
  },
  {
   "cell_type": "code",
   "execution_count": null,
   "id": "377f1959",
   "metadata": {},
   "outputs": [],
   "source": []
  },
  {
   "cell_type": "code",
   "execution_count": null,
   "id": "f4beb97b",
   "metadata": {},
   "outputs": [],
   "source": []
  },
  {
   "cell_type": "code",
   "execution_count": null,
   "id": "b7009112",
   "metadata": {},
   "outputs": [],
   "source": []
  }
 ],
 "metadata": {
  "kernelspec": {
   "display_name": "R",
   "language": "R",
   "name": "ir"
  },
  "language_info": {
   "codemirror_mode": "r",
   "file_extension": ".r",
   "mimetype": "text/x-r-source",
   "name": "R",
   "pygments_lexer": "r",
   "version": "3.6.1"
  }
 },
 "nbformat": 4,
 "nbformat_minor": 5
}
